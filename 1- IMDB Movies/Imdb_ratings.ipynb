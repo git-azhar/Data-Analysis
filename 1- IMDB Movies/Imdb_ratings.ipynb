{
 "cells": [
  {
   "cell_type": "markdown",
   "metadata": {},
   "source": [
    "# Project: IMDB Movies\n",
    "\n",
    "## Table of Contents\n",
    "<ul>\n",
    "<li><a href=\"#intro\">Introduction</a></li>\n",
    "<li><a href=\"#wrangling\">Data Wrangling</a></li>\n",
    "<li><a href=\"#eda\">Exploratory Data Analysis</a></li>\n",
    "<li><a href=\"#conclusions\">Conclusions</a></li>\n",
    "</ul>"
   ]
  },
  {
   "cell_type": "markdown",
   "metadata": {},
   "source": [
    "<a id='intro'></a>\n",
    "## Introduction\n",
    "The goal of the project is to analyze the popularity of movies based on a set of data. I used the Kaggle competition \"Popular Movies of IMDb\" (see https://www.kaggle.com/sankha1998/tmdb-top-10000-popular-movies-dataset) to retrieve necessary data. Mainly to answer the following two questions:\n",
    "\n",
    "### Research Question 1: Which genres are most popular from year to year?\n",
    "### Research Question 2:  What kinds of properties are associated with movies that have high revenues?"
   ]
  },
  {
   "cell_type": "code",
   "execution_count": 1,
   "metadata": {},
   "outputs": [],
   "source": [
    "import pandas as pd\n",
    "import numpy as np\n",
    "import matplotlib.pyplot as plt\n",
    "\n",
    "%matplotlib inline"
   ]
  },
  {
   "cell_type": "markdown",
   "metadata": {},
   "source": [
    "<a id='wrangling'></a>\n",
    "## Data Wrangling\n",
    "\n",
    "In this section I will load in the data, check for cleanliness, and then trim and clean dataset for analysis.\n",
    "\n",
    "### General Properties"
   ]
  },
  {
   "cell_type": "code",
   "execution_count": 2,
   "metadata": {},
   "outputs": [
    {
     "data": {
      "text/html": [
       "<div>\n",
       "<style scoped>\n",
       "    .dataframe tbody tr th:only-of-type {\n",
       "        vertical-align: middle;\n",
       "    }\n",
       "\n",
       "    .dataframe tbody tr th {\n",
       "        vertical-align: top;\n",
       "    }\n",
       "\n",
       "    .dataframe thead th {\n",
       "        text-align: right;\n",
       "    }\n",
       "</style>\n",
       "<table border=\"1\" class=\"dataframe\">\n",
       "  <thead>\n",
       "    <tr style=\"text-align: right;\">\n",
       "      <th></th>\n",
       "      <th>id</th>\n",
       "      <th>imdb_id</th>\n",
       "      <th>popularity</th>\n",
       "      <th>budget</th>\n",
       "      <th>revenue</th>\n",
       "      <th>original_title</th>\n",
       "      <th>cast</th>\n",
       "      <th>homepage</th>\n",
       "      <th>director</th>\n",
       "      <th>tagline</th>\n",
       "      <th>...</th>\n",
       "      <th>overview</th>\n",
       "      <th>runtime</th>\n",
       "      <th>genres</th>\n",
       "      <th>production_companies</th>\n",
       "      <th>release_date</th>\n",
       "      <th>vote_count</th>\n",
       "      <th>vote_average</th>\n",
       "      <th>release_year</th>\n",
       "      <th>budget_adj</th>\n",
       "      <th>revenue_adj</th>\n",
       "    </tr>\n",
       "  </thead>\n",
       "  <tbody>\n",
       "    <tr>\n",
       "      <th>0</th>\n",
       "      <td>135397</td>\n",
       "      <td>tt0369610</td>\n",
       "      <td>32.985763</td>\n",
       "      <td>150000000</td>\n",
       "      <td>1513528810</td>\n",
       "      <td>Jurassic World</td>\n",
       "      <td>Chris Pratt|Bryce Dallas Howard|Irrfan Khan|Vi...</td>\n",
       "      <td>http://www.jurassicworld.com/</td>\n",
       "      <td>Colin Trevorrow</td>\n",
       "      <td>The park is open.</td>\n",
       "      <td>...</td>\n",
       "      <td>Twenty-two years after the events of Jurassic ...</td>\n",
       "      <td>124</td>\n",
       "      <td>Action|Adventure|Science Fiction|Thriller</td>\n",
       "      <td>Universal Studios|Amblin Entertainment|Legenda...</td>\n",
       "      <td>6/9/15</td>\n",
       "      <td>5562</td>\n",
       "      <td>6.5</td>\n",
       "      <td>2015</td>\n",
       "      <td>1.379999e+08</td>\n",
       "      <td>1.392446e+09</td>\n",
       "    </tr>\n",
       "    <tr>\n",
       "      <th>1</th>\n",
       "      <td>76341</td>\n",
       "      <td>tt1392190</td>\n",
       "      <td>28.419936</td>\n",
       "      <td>150000000</td>\n",
       "      <td>378436354</td>\n",
       "      <td>Mad Max: Fury Road</td>\n",
       "      <td>Tom Hardy|Charlize Theron|Hugh Keays-Byrne|Nic...</td>\n",
       "      <td>http://www.madmaxmovie.com/</td>\n",
       "      <td>George Miller</td>\n",
       "      <td>What a Lovely Day.</td>\n",
       "      <td>...</td>\n",
       "      <td>An apocalyptic story set in the furthest reach...</td>\n",
       "      <td>120</td>\n",
       "      <td>Action|Adventure|Science Fiction|Thriller</td>\n",
       "      <td>Village Roadshow Pictures|Kennedy Miller Produ...</td>\n",
       "      <td>5/13/15</td>\n",
       "      <td>6185</td>\n",
       "      <td>7.1</td>\n",
       "      <td>2015</td>\n",
       "      <td>1.379999e+08</td>\n",
       "      <td>3.481613e+08</td>\n",
       "    </tr>\n",
       "    <tr>\n",
       "      <th>2</th>\n",
       "      <td>262500</td>\n",
       "      <td>tt2908446</td>\n",
       "      <td>13.112507</td>\n",
       "      <td>110000000</td>\n",
       "      <td>295238201</td>\n",
       "      <td>Insurgent</td>\n",
       "      <td>Shailene Woodley|Theo James|Kate Winslet|Ansel...</td>\n",
       "      <td>http://www.thedivergentseries.movie/#insurgent</td>\n",
       "      <td>Robert Schwentke</td>\n",
       "      <td>One Choice Can Destroy You</td>\n",
       "      <td>...</td>\n",
       "      <td>Beatrice Prior must confront her inner demons ...</td>\n",
       "      <td>119</td>\n",
       "      <td>Adventure|Science Fiction|Thriller</td>\n",
       "      <td>Summit Entertainment|Mandeville Films|Red Wago...</td>\n",
       "      <td>3/18/15</td>\n",
       "      <td>2480</td>\n",
       "      <td>6.3</td>\n",
       "      <td>2015</td>\n",
       "      <td>1.012000e+08</td>\n",
       "      <td>2.716190e+08</td>\n",
       "    </tr>\n",
       "    <tr>\n",
       "      <th>3</th>\n",
       "      <td>140607</td>\n",
       "      <td>tt2488496</td>\n",
       "      <td>11.173104</td>\n",
       "      <td>200000000</td>\n",
       "      <td>2068178225</td>\n",
       "      <td>Star Wars: The Force Awakens</td>\n",
       "      <td>Harrison Ford|Mark Hamill|Carrie Fisher|Adam D...</td>\n",
       "      <td>http://www.starwars.com/films/star-wars-episod...</td>\n",
       "      <td>J.J. Abrams</td>\n",
       "      <td>Every generation has a story.</td>\n",
       "      <td>...</td>\n",
       "      <td>Thirty years after defeating the Galactic Empi...</td>\n",
       "      <td>136</td>\n",
       "      <td>Action|Adventure|Science Fiction|Fantasy</td>\n",
       "      <td>Lucasfilm|Truenorth Productions|Bad Robot</td>\n",
       "      <td>12/15/15</td>\n",
       "      <td>5292</td>\n",
       "      <td>7.5</td>\n",
       "      <td>2015</td>\n",
       "      <td>1.839999e+08</td>\n",
       "      <td>1.902723e+09</td>\n",
       "    </tr>\n",
       "    <tr>\n",
       "      <th>4</th>\n",
       "      <td>168259</td>\n",
       "      <td>tt2820852</td>\n",
       "      <td>9.335014</td>\n",
       "      <td>190000000</td>\n",
       "      <td>1506249360</td>\n",
       "      <td>Furious 7</td>\n",
       "      <td>Vin Diesel|Paul Walker|Jason Statham|Michelle ...</td>\n",
       "      <td>http://www.furious7.com/</td>\n",
       "      <td>James Wan</td>\n",
       "      <td>Vengeance Hits Home</td>\n",
       "      <td>...</td>\n",
       "      <td>Deckard Shaw seeks revenge against Dominic Tor...</td>\n",
       "      <td>137</td>\n",
       "      <td>Action|Crime|Thriller</td>\n",
       "      <td>Universal Pictures|Original Film|Media Rights ...</td>\n",
       "      <td>4/1/15</td>\n",
       "      <td>2947</td>\n",
       "      <td>7.3</td>\n",
       "      <td>2015</td>\n",
       "      <td>1.747999e+08</td>\n",
       "      <td>1.385749e+09</td>\n",
       "    </tr>\n",
       "  </tbody>\n",
       "</table>\n",
       "<p>5 rows × 21 columns</p>\n",
       "</div>"
      ],
      "text/plain": [
       "       id    imdb_id  popularity     budget     revenue  \\\n",
       "0  135397  tt0369610   32.985763  150000000  1513528810   \n",
       "1   76341  tt1392190   28.419936  150000000   378436354   \n",
       "2  262500  tt2908446   13.112507  110000000   295238201   \n",
       "3  140607  tt2488496   11.173104  200000000  2068178225   \n",
       "4  168259  tt2820852    9.335014  190000000  1506249360   \n",
       "\n",
       "                 original_title  \\\n",
       "0                Jurassic World   \n",
       "1            Mad Max: Fury Road   \n",
       "2                     Insurgent   \n",
       "3  Star Wars: The Force Awakens   \n",
       "4                     Furious 7   \n",
       "\n",
       "                                                cast  \\\n",
       "0  Chris Pratt|Bryce Dallas Howard|Irrfan Khan|Vi...   \n",
       "1  Tom Hardy|Charlize Theron|Hugh Keays-Byrne|Nic...   \n",
       "2  Shailene Woodley|Theo James|Kate Winslet|Ansel...   \n",
       "3  Harrison Ford|Mark Hamill|Carrie Fisher|Adam D...   \n",
       "4  Vin Diesel|Paul Walker|Jason Statham|Michelle ...   \n",
       "\n",
       "                                            homepage          director  \\\n",
       "0                      http://www.jurassicworld.com/   Colin Trevorrow   \n",
       "1                        http://www.madmaxmovie.com/     George Miller   \n",
       "2     http://www.thedivergentseries.movie/#insurgent  Robert Schwentke   \n",
       "3  http://www.starwars.com/films/star-wars-episod...       J.J. Abrams   \n",
       "4                           http://www.furious7.com/         James Wan   \n",
       "\n",
       "                         tagline  ...  \\\n",
       "0              The park is open.  ...   \n",
       "1             What a Lovely Day.  ...   \n",
       "2     One Choice Can Destroy You  ...   \n",
       "3  Every generation has a story.  ...   \n",
       "4            Vengeance Hits Home  ...   \n",
       "\n",
       "                                            overview runtime  \\\n",
       "0  Twenty-two years after the events of Jurassic ...     124   \n",
       "1  An apocalyptic story set in the furthest reach...     120   \n",
       "2  Beatrice Prior must confront her inner demons ...     119   \n",
       "3  Thirty years after defeating the Galactic Empi...     136   \n",
       "4  Deckard Shaw seeks revenge against Dominic Tor...     137   \n",
       "\n",
       "                                      genres  \\\n",
       "0  Action|Adventure|Science Fiction|Thriller   \n",
       "1  Action|Adventure|Science Fiction|Thriller   \n",
       "2         Adventure|Science Fiction|Thriller   \n",
       "3   Action|Adventure|Science Fiction|Fantasy   \n",
       "4                      Action|Crime|Thriller   \n",
       "\n",
       "                                production_companies release_date vote_count  \\\n",
       "0  Universal Studios|Amblin Entertainment|Legenda...       6/9/15       5562   \n",
       "1  Village Roadshow Pictures|Kennedy Miller Produ...      5/13/15       6185   \n",
       "2  Summit Entertainment|Mandeville Films|Red Wago...      3/18/15       2480   \n",
       "3          Lucasfilm|Truenorth Productions|Bad Robot     12/15/15       5292   \n",
       "4  Universal Pictures|Original Film|Media Rights ...       4/1/15       2947   \n",
       "\n",
       "   vote_average  release_year    budget_adj   revenue_adj  \n",
       "0           6.5          2015  1.379999e+08  1.392446e+09  \n",
       "1           7.1          2015  1.379999e+08  3.481613e+08  \n",
       "2           6.3          2015  1.012000e+08  2.716190e+08  \n",
       "3           7.5          2015  1.839999e+08  1.902723e+09  \n",
       "4           7.3          2015  1.747999e+08  1.385749e+09  \n",
       "\n",
       "[5 rows x 21 columns]"
      ]
     },
     "execution_count": 2,
     "metadata": {},
     "output_type": "execute_result"
    }
   ],
   "source": [
    "#load dataset\n",
    "\n",
    "df = pd.read_csv('tmdb-movies.csv')\n",
    "df.head()"
   ]
  },
  {
   "cell_type": "code",
   "execution_count": 3,
   "metadata": {},
   "outputs": [
    {
     "data": {
      "text/plain": [
       "(10866, 21)"
      ]
     },
     "execution_count": 3,
     "metadata": {},
     "output_type": "execute_result"
    }
   ],
   "source": [
    "df.shape"
   ]
  },
  {
   "cell_type": "code",
   "execution_count": 4,
   "metadata": {
    "tags": []
   },
   "outputs": [
    {
     "name": "stdout",
     "output_type": "stream",
     "text": [
      "<class 'pandas.core.frame.DataFrame'>\n",
      "RangeIndex: 10866 entries, 0 to 10865\n",
      "Data columns (total 21 columns):\n",
      " #   Column                Non-Null Count  Dtype  \n",
      "---  ------                --------------  -----  \n",
      " 0   id                    10866 non-null  int64  \n",
      " 1   imdb_id               10856 non-null  object \n",
      " 2   popularity            10866 non-null  float64\n",
      " 3   budget                10866 non-null  int64  \n",
      " 4   revenue               10866 non-null  int64  \n",
      " 5   original_title        10866 non-null  object \n",
      " 6   cast                  10790 non-null  object \n",
      " 7   homepage              2936 non-null   object \n",
      " 8   director              10822 non-null  object \n",
      " 9   tagline               8042 non-null   object \n",
      " 10  keywords              9373 non-null   object \n",
      " 11  overview              10862 non-null  object \n",
      " 12  runtime               10866 non-null  int64  \n",
      " 13  genres                10843 non-null  object \n",
      " 14  production_companies  9836 non-null   object \n",
      " 15  release_date          10866 non-null  object \n",
      " 16  vote_count            10866 non-null  int64  \n",
      " 17  vote_average          10866 non-null  float64\n",
      " 18  release_year          10866 non-null  int64  \n",
      " 19  budget_adj            10866 non-null  float64\n",
      " 20  revenue_adj           10866 non-null  float64\n",
      "dtypes: float64(4), int64(6), object(11)\n",
      "memory usage: 1.7+ MB\n"
     ]
    }
   ],
   "source": [
    "df.info()"
   ]
  },
  {
   "cell_type": "markdown",
   "metadata": {},
   "source": [
    " I'm going to drop some attrtibute as they seem redundant or of no value for the analysis.\n",
    " Attributes such as, id, imdb_id, cast, homepage, director, tagline, keywords, overview, production_companies  , release_date "
   ]
  },
  {
   "cell_type": "markdown",
   "metadata": {},
   "source": [
    "### Data Cleaning (Extracting relevant data)"
   ]
  },
  {
   "cell_type": "code",
   "execution_count": 5,
   "metadata": {},
   "outputs": [],
   "source": [
    "# Drop irrelevant columns\n",
    "columns_to_drop = ['id', 'imdb_id', 'cast', 'homepage', 'director',\n",
    "                   'tagline', 'keywords', 'overview', 'production_companies',\n",
    "                   'release_date', 'budget_adj', 'revenue_adj']\n",
    "\n",
    "df.drop(columns_to_drop, inplace=True, axis=1)\n"
   ]
  },
  {
   "cell_type": "code",
   "execution_count": 6,
   "metadata": {},
   "outputs": [],
   "source": [
    "# renaming column 'original_title' to 'title'\n",
    "df.rename(columns={'original_title': 'title'}, inplace=True)"
   ]
  },
  {
   "cell_type": "code",
   "execution_count": 7,
   "metadata": {},
   "outputs": [
    {
     "data": {
      "text/plain": [
       "Index(['popularity', 'budget', 'revenue', 'title', 'runtime', 'genres',\n",
       "       'vote_count', 'vote_average', 'release_year'],\n",
       "      dtype='object')"
      ]
     },
     "execution_count": 7,
     "metadata": {},
     "output_type": "execute_result"
    }
   ],
   "source": [
    "df.columns"
   ]
  },
  {
   "cell_type": "code",
   "execution_count": 8,
   "metadata": {},
   "outputs": [
    {
     "data": {
      "text/plain": [
       "(10866, 9)"
      ]
     },
     "execution_count": 8,
     "metadata": {},
     "output_type": "execute_result"
    }
   ],
   "source": [
    "df.shape"
   ]
  },
  {
   "cell_type": "markdown",
   "metadata": {},
   "source": [
    "### Check for missing/NULL values"
   ]
  },
  {
   "cell_type": "code",
   "execution_count": 9,
   "metadata": {
    "scrolled": true
   },
   "outputs": [
    {
     "data": {
      "text/plain": [
       "popularity       0\n",
       "budget           0\n",
       "revenue          0\n",
       "title            0\n",
       "runtime          0\n",
       "genres          23\n",
       "vote_count       0\n",
       "vote_average     0\n",
       "release_year     0\n",
       "dtype: int64"
      ]
     },
     "execution_count": 9,
     "metadata": {},
     "output_type": "execute_result"
    }
   ],
   "source": [
    "df.isna().sum()"
   ]
  },
  {
   "cell_type": "markdown",
   "metadata": {},
   "source": [
    "#### Only 'genres' column has NULL value. Let's filter them out."
   ]
  },
  {
   "cell_type": "code",
   "execution_count": 10,
   "metadata": {},
   "outputs": [],
   "source": [
    "df.dropna(subset=['genres'], how='any', inplace=True);"
   ]
  },
  {
   "cell_type": "code",
   "execution_count": 11,
   "metadata": {},
   "outputs": [
    {
     "data": {
      "text/plain": [
       "popularity      0\n",
       "budget          0\n",
       "revenue         0\n",
       "title           0\n",
       "runtime         0\n",
       "genres          0\n",
       "vote_count      0\n",
       "vote_average    0\n",
       "release_year    0\n",
       "dtype: int64"
      ]
     },
     "execution_count": 11,
     "metadata": {},
     "output_type": "execute_result"
    }
   ],
   "source": [
    "#let's check for missing values\n",
    "df.isna().sum()"
   ]
  },
  {
   "cell_type": "code",
   "execution_count": 12,
   "metadata": {},
   "outputs": [
    {
     "data": {
      "text/html": [
       "<div>\n",
       "<style scoped>\n",
       "    .dataframe tbody tr th:only-of-type {\n",
       "        vertical-align: middle;\n",
       "    }\n",
       "\n",
       "    .dataframe tbody tr th {\n",
       "        vertical-align: top;\n",
       "    }\n",
       "\n",
       "    .dataframe thead th {\n",
       "        text-align: right;\n",
       "    }\n",
       "</style>\n",
       "<table border=\"1\" class=\"dataframe\">\n",
       "  <thead>\n",
       "    <tr style=\"text-align: right;\">\n",
       "      <th></th>\n",
       "      <th>popularity</th>\n",
       "      <th>budget</th>\n",
       "      <th>revenue</th>\n",
       "      <th>title</th>\n",
       "      <th>runtime</th>\n",
       "      <th>genres</th>\n",
       "      <th>vote_count</th>\n",
       "      <th>vote_average</th>\n",
       "      <th>release_year</th>\n",
       "    </tr>\n",
       "  </thead>\n",
       "  <tbody>\n",
       "    <tr>\n",
       "      <th>0</th>\n",
       "      <td>32.985763</td>\n",
       "      <td>150000000</td>\n",
       "      <td>1513528810</td>\n",
       "      <td>Jurassic World</td>\n",
       "      <td>124</td>\n",
       "      <td>Action|Adventure|Science Fiction|Thriller</td>\n",
       "      <td>5562</td>\n",
       "      <td>6.5</td>\n",
       "      <td>2015</td>\n",
       "    </tr>\n",
       "    <tr>\n",
       "      <th>1</th>\n",
       "      <td>28.419936</td>\n",
       "      <td>150000000</td>\n",
       "      <td>378436354</td>\n",
       "      <td>Mad Max: Fury Road</td>\n",
       "      <td>120</td>\n",
       "      <td>Action|Adventure|Science Fiction|Thriller</td>\n",
       "      <td>6185</td>\n",
       "      <td>7.1</td>\n",
       "      <td>2015</td>\n",
       "    </tr>\n",
       "    <tr>\n",
       "      <th>2</th>\n",
       "      <td>13.112507</td>\n",
       "      <td>110000000</td>\n",
       "      <td>295238201</td>\n",
       "      <td>Insurgent</td>\n",
       "      <td>119</td>\n",
       "      <td>Adventure|Science Fiction|Thriller</td>\n",
       "      <td>2480</td>\n",
       "      <td>6.3</td>\n",
       "      <td>2015</td>\n",
       "    </tr>\n",
       "    <tr>\n",
       "      <th>3</th>\n",
       "      <td>11.173104</td>\n",
       "      <td>200000000</td>\n",
       "      <td>2068178225</td>\n",
       "      <td>Star Wars: The Force Awakens</td>\n",
       "      <td>136</td>\n",
       "      <td>Action|Adventure|Science Fiction|Fantasy</td>\n",
       "      <td>5292</td>\n",
       "      <td>7.5</td>\n",
       "      <td>2015</td>\n",
       "    </tr>\n",
       "    <tr>\n",
       "      <th>4</th>\n",
       "      <td>9.335014</td>\n",
       "      <td>190000000</td>\n",
       "      <td>1506249360</td>\n",
       "      <td>Furious 7</td>\n",
       "      <td>137</td>\n",
       "      <td>Action|Crime|Thriller</td>\n",
       "      <td>2947</td>\n",
       "      <td>7.3</td>\n",
       "      <td>2015</td>\n",
       "    </tr>\n",
       "  </tbody>\n",
       "</table>\n",
       "</div>"
      ],
      "text/plain": [
       "   popularity     budget     revenue                         title  runtime  \\\n",
       "0   32.985763  150000000  1513528810                Jurassic World      124   \n",
       "1   28.419936  150000000   378436354            Mad Max: Fury Road      120   \n",
       "2   13.112507  110000000   295238201                     Insurgent      119   \n",
       "3   11.173104  200000000  2068178225  Star Wars: The Force Awakens      136   \n",
       "4    9.335014  190000000  1506249360                     Furious 7      137   \n",
       "\n",
       "                                      genres  vote_count  vote_average  \\\n",
       "0  Action|Adventure|Science Fiction|Thriller        5562           6.5   \n",
       "1  Action|Adventure|Science Fiction|Thriller        6185           7.1   \n",
       "2         Adventure|Science Fiction|Thriller        2480           6.3   \n",
       "3   Action|Adventure|Science Fiction|Fantasy        5292           7.5   \n",
       "4                      Action|Crime|Thriller        2947           7.3   \n",
       "\n",
       "   release_year  \n",
       "0          2015  \n",
       "1          2015  \n",
       "2          2015  \n",
       "3          2015  \n",
       "4          2015  "
      ]
     },
     "execution_count": 12,
     "metadata": {},
     "output_type": "execute_result"
    }
   ],
   "source": [
    "df.head(5)"
   ]
  },
  {
   "cell_type": "markdown",
   "metadata": {},
   "source": [
    " As we can see that genres attribute have multiple values for a single entry. I'm going to spit this into mutiple rows."
   ]
  },
  {
   "cell_type": "code",
   "execution_count": 13,
   "metadata": {},
   "outputs": [
    {
     "name": "stderr",
     "output_type": "stream",
     "text": [
      "C:\\Users\\Azhar\\miniconda3\\envs\\dev\\lib\\site-packages\\ipykernel_launcher.py:4: FutureWarning: The default value of regex will change from True to False in a future version. In addition, single character regular expressions will*not* be treated as literal strings when regex=True.\n",
      "  after removing the cwd from sys.path.\n"
     ]
    }
   ],
   "source": [
    "#let's get all the genres in dataset\n",
    "# replacing \"|\" with \",\" as str.cnontains won't detect \"|\" becasue its a key symbol used for OR.\n",
    "\n",
    "df['genres'] = df['genres'].str.replace(\"|\",\",\");"
   ]
  },
  {
   "cell_type": "code",
   "execution_count": 14,
   "metadata": {},
   "outputs": [
    {
     "data": {
      "text/html": [
       "<div>\n",
       "<style scoped>\n",
       "    .dataframe tbody tr th:only-of-type {\n",
       "        vertical-align: middle;\n",
       "    }\n",
       "\n",
       "    .dataframe tbody tr th {\n",
       "        vertical-align: top;\n",
       "    }\n",
       "\n",
       "    .dataframe thead th {\n",
       "        text-align: right;\n",
       "    }\n",
       "</style>\n",
       "<table border=\"1\" class=\"dataframe\">\n",
       "  <thead>\n",
       "    <tr style=\"text-align: right;\">\n",
       "      <th></th>\n",
       "      <th>popularity</th>\n",
       "      <th>budget</th>\n",
       "      <th>revenue</th>\n",
       "      <th>title</th>\n",
       "      <th>runtime</th>\n",
       "      <th>genres</th>\n",
       "      <th>vote_count</th>\n",
       "      <th>vote_average</th>\n",
       "      <th>release_year</th>\n",
       "    </tr>\n",
       "  </thead>\n",
       "  <tbody>\n",
       "    <tr>\n",
       "      <th>0</th>\n",
       "      <td>32.985763</td>\n",
       "      <td>150000000</td>\n",
       "      <td>1513528810</td>\n",
       "      <td>Jurassic World</td>\n",
       "      <td>124</td>\n",
       "      <td>Action,Adventure,Science Fiction,Thriller</td>\n",
       "      <td>5562</td>\n",
       "      <td>6.5</td>\n",
       "      <td>2015</td>\n",
       "    </tr>\n",
       "    <tr>\n",
       "      <th>1</th>\n",
       "      <td>28.419936</td>\n",
       "      <td>150000000</td>\n",
       "      <td>378436354</td>\n",
       "      <td>Mad Max: Fury Road</td>\n",
       "      <td>120</td>\n",
       "      <td>Action,Adventure,Science Fiction,Thriller</td>\n",
       "      <td>6185</td>\n",
       "      <td>7.1</td>\n",
       "      <td>2015</td>\n",
       "    </tr>\n",
       "    <tr>\n",
       "      <th>2</th>\n",
       "      <td>13.112507</td>\n",
       "      <td>110000000</td>\n",
       "      <td>295238201</td>\n",
       "      <td>Insurgent</td>\n",
       "      <td>119</td>\n",
       "      <td>Adventure,Science Fiction,Thriller</td>\n",
       "      <td>2480</td>\n",
       "      <td>6.3</td>\n",
       "      <td>2015</td>\n",
       "    </tr>\n",
       "    <tr>\n",
       "      <th>3</th>\n",
       "      <td>11.173104</td>\n",
       "      <td>200000000</td>\n",
       "      <td>2068178225</td>\n",
       "      <td>Star Wars: The Force Awakens</td>\n",
       "      <td>136</td>\n",
       "      <td>Action,Adventure,Science Fiction,Fantasy</td>\n",
       "      <td>5292</td>\n",
       "      <td>7.5</td>\n",
       "      <td>2015</td>\n",
       "    </tr>\n",
       "    <tr>\n",
       "      <th>4</th>\n",
       "      <td>9.335014</td>\n",
       "      <td>190000000</td>\n",
       "      <td>1506249360</td>\n",
       "      <td>Furious 7</td>\n",
       "      <td>137</td>\n",
       "      <td>Action,Crime,Thriller</td>\n",
       "      <td>2947</td>\n",
       "      <td>7.3</td>\n",
       "      <td>2015</td>\n",
       "    </tr>\n",
       "  </tbody>\n",
       "</table>\n",
       "</div>"
      ],
      "text/plain": [
       "   popularity     budget     revenue                         title  runtime  \\\n",
       "0   32.985763  150000000  1513528810                Jurassic World      124   \n",
       "1   28.419936  150000000   378436354            Mad Max: Fury Road      120   \n",
       "2   13.112507  110000000   295238201                     Insurgent      119   \n",
       "3   11.173104  200000000  2068178225  Star Wars: The Force Awakens      136   \n",
       "4    9.335014  190000000  1506249360                     Furious 7      137   \n",
       "\n",
       "                                      genres  vote_count  vote_average  \\\n",
       "0  Action,Adventure,Science Fiction,Thriller        5562           6.5   \n",
       "1  Action,Adventure,Science Fiction,Thriller        6185           7.1   \n",
       "2         Adventure,Science Fiction,Thriller        2480           6.3   \n",
       "3   Action,Adventure,Science Fiction,Fantasy        5292           7.5   \n",
       "4                      Action,Crime,Thriller        2947           7.3   \n",
       "\n",
       "   release_year  \n",
       "0          2015  \n",
       "1          2015  \n",
       "2          2015  \n",
       "3          2015  \n",
       "4          2015  "
      ]
     },
     "execution_count": 14,
     "metadata": {},
     "output_type": "execute_result"
    }
   ],
   "source": [
    "df.head()"
   ]
  },
  {
   "cell_type": "markdown",
   "metadata": {},
   "source": [
    "### Let's seprate multiple genres to single genre."
   ]
  },
  {
   "cell_type": "markdown",
   "metadata": {},
   "source": [
    " I'm going to split each row with multiple genre values into multiple rows having only one genre for each entry."
   ]
  },
  {
   "cell_type": "code",
   "execution_count": 15,
   "metadata": {},
   "outputs": [],
   "source": [
    "data_frames = []\n",
    "idx = 1\n",
    "for col in df.columns:\n",
    "    if col != 'genres':\n",
    "        df_name = f'temp_{idx}'\n",
    "        df_name = pd.DataFrame(df.genres.str.split(',').tolist(), index=df[col]).stack()\n",
    "        df_name = df_name.reset_index([0, col])\n",
    "        df_name.columns = [col, 'genres']\n",
    "        idx+=1\n",
    "        \n",
    "    data_frames.append(df_name)"
   ]
  },
  {
   "cell_type": "code",
   "execution_count": 16,
   "metadata": {},
   "outputs": [
    {
     "data": {
      "text/html": [
       "<div>\n",
       "<style scoped>\n",
       "    .dataframe tbody tr th:only-of-type {\n",
       "        vertical-align: middle;\n",
       "    }\n",
       "\n",
       "    .dataframe tbody tr th {\n",
       "        vertical-align: top;\n",
       "    }\n",
       "\n",
       "    .dataframe thead th {\n",
       "        text-align: right;\n",
       "    }\n",
       "</style>\n",
       "<table border=\"1\" class=\"dataframe\">\n",
       "  <thead>\n",
       "    <tr style=\"text-align: right;\">\n",
       "      <th></th>\n",
       "      <th>popularity</th>\n",
       "      <th>genres</th>\n",
       "      <th>budget</th>\n",
       "      <th>revenue</th>\n",
       "      <th>title</th>\n",
       "      <th>runtime</th>\n",
       "      <th>vote_count</th>\n",
       "      <th>vote_average</th>\n",
       "      <th>release_year</th>\n",
       "    </tr>\n",
       "  </thead>\n",
       "  <tbody>\n",
       "    <tr>\n",
       "      <th>0</th>\n",
       "      <td>32.985763</td>\n",
       "      <td>Action</td>\n",
       "      <td>150000000</td>\n",
       "      <td>1513528810</td>\n",
       "      <td>Jurassic World</td>\n",
       "      <td>124</td>\n",
       "      <td>5562</td>\n",
       "      <td>6.5</td>\n",
       "      <td>2015</td>\n",
       "    </tr>\n",
       "    <tr>\n",
       "      <th>1</th>\n",
       "      <td>32.985763</td>\n",
       "      <td>Adventure</td>\n",
       "      <td>150000000</td>\n",
       "      <td>1513528810</td>\n",
       "      <td>Jurassic World</td>\n",
       "      <td>124</td>\n",
       "      <td>5562</td>\n",
       "      <td>6.5</td>\n",
       "      <td>2015</td>\n",
       "    </tr>\n",
       "    <tr>\n",
       "      <th>2</th>\n",
       "      <td>32.985763</td>\n",
       "      <td>Science Fiction</td>\n",
       "      <td>150000000</td>\n",
       "      <td>1513528810</td>\n",
       "      <td>Jurassic World</td>\n",
       "      <td>124</td>\n",
       "      <td>5562</td>\n",
       "      <td>6.5</td>\n",
       "      <td>2015</td>\n",
       "    </tr>\n",
       "    <tr>\n",
       "      <th>3</th>\n",
       "      <td>32.985763</td>\n",
       "      <td>Thriller</td>\n",
       "      <td>150000000</td>\n",
       "      <td>1513528810</td>\n",
       "      <td>Jurassic World</td>\n",
       "      <td>124</td>\n",
       "      <td>5562</td>\n",
       "      <td>6.5</td>\n",
       "      <td>2015</td>\n",
       "    </tr>\n",
       "    <tr>\n",
       "      <th>4</th>\n",
       "      <td>28.419936</td>\n",
       "      <td>Action</td>\n",
       "      <td>150000000</td>\n",
       "      <td>378436354</td>\n",
       "      <td>Mad Max: Fury Road</td>\n",
       "      <td>120</td>\n",
       "      <td>6185</td>\n",
       "      <td>7.1</td>\n",
       "      <td>2015</td>\n",
       "    </tr>\n",
       "  </tbody>\n",
       "</table>\n",
       "</div>"
      ],
      "text/plain": [
       "  popularity           genres     budget     revenue               title  \\\n",
       "0  32.985763           Action  150000000  1513528810      Jurassic World   \n",
       "1  32.985763        Adventure  150000000  1513528810      Jurassic World   \n",
       "2  32.985763  Science Fiction  150000000  1513528810      Jurassic World   \n",
       "3  32.985763         Thriller  150000000  1513528810      Jurassic World   \n",
       "4  28.419936           Action  150000000   378436354  Mad Max: Fury Road   \n",
       "\n",
       "  runtime vote_count vote_average release_year  \n",
       "0     124       5562          6.5         2015  \n",
       "1     124       5562          6.5         2015  \n",
       "2     124       5562          6.5         2015  \n",
       "3     124       5562          6.5         2015  \n",
       "4     120       6185          7.1         2015  "
      ]
     },
     "execution_count": 16,
     "metadata": {},
     "output_type": "execute_result"
    }
   ],
   "source": [
    "new_df = pd.concat(data_frames, axis=1)\n",
    "df_clean = new_df.T.drop_duplicates().T\n",
    "df_clean.head()"
   ]
  },
  {
   "cell_type": "code",
   "execution_count": 17,
   "metadata": {},
   "outputs": [
    {
     "data": {
      "text/plain": [
       "(26960, 9)"
      ]
     },
     "execution_count": 17,
     "metadata": {},
     "output_type": "execute_result"
    }
   ],
   "source": [
    "df_clean.shape"
   ]
  },
  {
   "cell_type": "markdown",
   "metadata": {},
   "source": [
    "<a id='eda'></a>\n",
    "## Exploratory Data Analysis\n",
    "\n",
    "Now that I've trimmed and cleaned the data, Let's move on to exploration.\n",
    "\n",
    "### Research Question 1: Which genres are most popular from year to year?"
   ]
  },
  {
   "cell_type": "code",
   "execution_count": 18,
   "metadata": {
    "tags": []
   },
   "outputs": [
    {
     "data": {
      "text/html": [
       "<div>\n",
       "<style scoped>\n",
       "    .dataframe tbody tr th:only-of-type {\n",
       "        vertical-align: middle;\n",
       "    }\n",
       "\n",
       "    .dataframe tbody tr th {\n",
       "        vertical-align: top;\n",
       "    }\n",
       "\n",
       "    .dataframe thead th {\n",
       "        text-align: right;\n",
       "    }\n",
       "</style>\n",
       "<table border=\"1\" class=\"dataframe\">\n",
       "  <thead>\n",
       "    <tr style=\"text-align: right;\">\n",
       "      <th></th>\n",
       "      <th>popularity</th>\n",
       "      <th>genres</th>\n",
       "      <th>budget</th>\n",
       "      <th>revenue</th>\n",
       "      <th>title</th>\n",
       "      <th>runtime</th>\n",
       "      <th>vote_count</th>\n",
       "      <th>vote_average</th>\n",
       "      <th>release_year</th>\n",
       "    </tr>\n",
       "  </thead>\n",
       "  <tbody>\n",
       "    <tr>\n",
       "      <th>count</th>\n",
       "      <td>26960.00000</td>\n",
       "      <td>26960</td>\n",
       "      <td>26960</td>\n",
       "      <td>26960</td>\n",
       "      <td>26960</td>\n",
       "      <td>26960</td>\n",
       "      <td>26960</td>\n",
       "      <td>26960.0</td>\n",
       "      <td>26960</td>\n",
       "    </tr>\n",
       "    <tr>\n",
       "      <th>unique</th>\n",
       "      <td>10791.00000</td>\n",
       "      <td>20</td>\n",
       "      <td>557</td>\n",
       "      <td>4702</td>\n",
       "      <td>10548</td>\n",
       "      <td>246</td>\n",
       "      <td>1289</td>\n",
       "      <td>72.0</td>\n",
       "      <td>56</td>\n",
       "    </tr>\n",
       "    <tr>\n",
       "      <th>top</th>\n",
       "      <td>0.59643</td>\n",
       "      <td>Drama</td>\n",
       "      <td>0</td>\n",
       "      <td>0</td>\n",
       "      <td>Annie</td>\n",
       "      <td>90</td>\n",
       "      <td>10</td>\n",
       "      <td>6.1</td>\n",
       "      <td>2014</td>\n",
       "    </tr>\n",
       "    <tr>\n",
       "      <th>freq</th>\n",
       "      <td>10.00000</td>\n",
       "      <td>4761</td>\n",
       "      <td>13354</td>\n",
       "      <td>14291</td>\n",
       "      <td>11</td>\n",
       "      <td>1274</td>\n",
       "      <td>1120</td>\n",
       "      <td>1351.0</td>\n",
       "      <td>1470</td>\n",
       "    </tr>\n",
       "  </tbody>\n",
       "</table>\n",
       "</div>"
      ],
      "text/plain": [
       "         popularity genres  budget  revenue  title  runtime  vote_count  \\\n",
       "count   26960.00000  26960   26960    26960  26960    26960       26960   \n",
       "unique  10791.00000     20     557     4702  10548      246        1289   \n",
       "top         0.59643  Drama       0        0  Annie       90          10   \n",
       "freq       10.00000   4761   13354    14291     11     1274        1120   \n",
       "\n",
       "        vote_average  release_year  \n",
       "count        26960.0         26960  \n",
       "unique          72.0            56  \n",
       "top              6.1          2014  \n",
       "freq          1351.0          1470  "
      ]
     },
     "execution_count": 18,
     "metadata": {},
     "output_type": "execute_result"
    }
   ],
   "source": [
    "# Let's look at the summary statistics\n",
    "df_clean.describe()"
   ]
  },
  {
   "cell_type": "code",
   "execution_count": 19,
   "metadata": {},
   "outputs": [
    {
     "data": {
      "text/plain": [
       "popularity      object\n",
       "genres          object\n",
       "budget          object\n",
       "revenue         object\n",
       "title           object\n",
       "runtime         object\n",
       "vote_count      object\n",
       "vote_average    object\n",
       "release_year    object\n",
       "dtype: object"
      ]
     },
     "execution_count": 19,
     "metadata": {},
     "output_type": "execute_result"
    }
   ],
   "source": [
    "df_clean.dtypes"
   ]
  },
  {
   "cell_type": "markdown",
   "metadata": {},
   "source": [
    "Let's change data types of the following columns:\n",
    "- popularity\n",
    "- budget\n",
    "- revenue\n",
    "- vote_average\n",
    "- vote_count"
   ]
  },
  {
   "cell_type": "code",
   "execution_count": 20,
   "metadata": {},
   "outputs": [],
   "source": [
    "df_clean=df_clean.astype({'popularity': 'float',\n",
    "                          'budget':'float',\n",
    "                          'revenue':'float',\n",
    "                          'vote_average':'float',\n",
    "                          'vote_count':'float'})"
   ]
  },
  {
   "cell_type": "code",
   "execution_count": 21,
   "metadata": {},
   "outputs": [
    {
     "data": {
      "text/html": [
       "<div>\n",
       "<style scoped>\n",
       "    .dataframe tbody tr th:only-of-type {\n",
       "        vertical-align: middle;\n",
       "    }\n",
       "\n",
       "    .dataframe tbody tr th {\n",
       "        vertical-align: top;\n",
       "    }\n",
       "\n",
       "    .dataframe thead th {\n",
       "        text-align: right;\n",
       "    }\n",
       "</style>\n",
       "<table border=\"1\" class=\"dataframe\">\n",
       "  <thead>\n",
       "    <tr style=\"text-align: right;\">\n",
       "      <th></th>\n",
       "      <th>popularity</th>\n",
       "      <th>genres</th>\n",
       "      <th>budget</th>\n",
       "      <th>revenue</th>\n",
       "      <th>title</th>\n",
       "      <th>runtime</th>\n",
       "      <th>vote_count</th>\n",
       "      <th>vote_average</th>\n",
       "      <th>release_year</th>\n",
       "    </tr>\n",
       "  </thead>\n",
       "  <tbody>\n",
       "    <tr>\n",
       "      <th>0</th>\n",
       "      <td>32.985763</td>\n",
       "      <td>Action</td>\n",
       "      <td>150000000.0</td>\n",
       "      <td>1.513529e+09</td>\n",
       "      <td>Jurassic World</td>\n",
       "      <td>124</td>\n",
       "      <td>5562.0</td>\n",
       "      <td>6.5</td>\n",
       "      <td>2015</td>\n",
       "    </tr>\n",
       "    <tr>\n",
       "      <th>1</th>\n",
       "      <td>32.985763</td>\n",
       "      <td>Adventure</td>\n",
       "      <td>150000000.0</td>\n",
       "      <td>1.513529e+09</td>\n",
       "      <td>Jurassic World</td>\n",
       "      <td>124</td>\n",
       "      <td>5562.0</td>\n",
       "      <td>6.5</td>\n",
       "      <td>2015</td>\n",
       "    </tr>\n",
       "    <tr>\n",
       "      <th>2</th>\n",
       "      <td>32.985763</td>\n",
       "      <td>Science Fiction</td>\n",
       "      <td>150000000.0</td>\n",
       "      <td>1.513529e+09</td>\n",
       "      <td>Jurassic World</td>\n",
       "      <td>124</td>\n",
       "      <td>5562.0</td>\n",
       "      <td>6.5</td>\n",
       "      <td>2015</td>\n",
       "    </tr>\n",
       "    <tr>\n",
       "      <th>3</th>\n",
       "      <td>32.985763</td>\n",
       "      <td>Thriller</td>\n",
       "      <td>150000000.0</td>\n",
       "      <td>1.513529e+09</td>\n",
       "      <td>Jurassic World</td>\n",
       "      <td>124</td>\n",
       "      <td>5562.0</td>\n",
       "      <td>6.5</td>\n",
       "      <td>2015</td>\n",
       "    </tr>\n",
       "    <tr>\n",
       "      <th>4</th>\n",
       "      <td>28.419936</td>\n",
       "      <td>Action</td>\n",
       "      <td>150000000.0</td>\n",
       "      <td>3.784364e+08</td>\n",
       "      <td>Mad Max: Fury Road</td>\n",
       "      <td>120</td>\n",
       "      <td>6185.0</td>\n",
       "      <td>7.1</td>\n",
       "      <td>2015</td>\n",
       "    </tr>\n",
       "  </tbody>\n",
       "</table>\n",
       "</div>"
      ],
      "text/plain": [
       "   popularity           genres       budget       revenue               title  \\\n",
       "0   32.985763           Action  150000000.0  1.513529e+09      Jurassic World   \n",
       "1   32.985763        Adventure  150000000.0  1.513529e+09      Jurassic World   \n",
       "2   32.985763  Science Fiction  150000000.0  1.513529e+09      Jurassic World   \n",
       "3   32.985763         Thriller  150000000.0  1.513529e+09      Jurassic World   \n",
       "4   28.419936           Action  150000000.0  3.784364e+08  Mad Max: Fury Road   \n",
       "\n",
       "  runtime  vote_count  vote_average release_year  \n",
       "0     124      5562.0           6.5         2015  \n",
       "1     124      5562.0           6.5         2015  \n",
       "2     124      5562.0           6.5         2015  \n",
       "3     124      5562.0           6.5         2015  \n",
       "4     120      6185.0           7.1         2015  "
      ]
     },
     "execution_count": 21,
     "metadata": {},
     "output_type": "execute_result"
    }
   ],
   "source": [
    "df_clean.head()"
   ]
  },
  {
   "cell_type": "code",
   "execution_count": 22,
   "metadata": {
    "tags": []
   },
   "outputs": [
    {
     "data": {
      "text/html": [
       "<div>\n",
       "<style scoped>\n",
       "    .dataframe tbody tr th:only-of-type {\n",
       "        vertical-align: middle;\n",
       "    }\n",
       "\n",
       "    .dataframe tbody tr th {\n",
       "        vertical-align: top;\n",
       "    }\n",
       "\n",
       "    .dataframe thead tr th {\n",
       "        text-align: left;\n",
       "    }\n",
       "\n",
       "    .dataframe thead tr:last-of-type th {\n",
       "        text-align: right;\n",
       "    }\n",
       "</style>\n",
       "<table border=\"1\" class=\"dataframe\">\n",
       "  <thead>\n",
       "    <tr>\n",
       "      <th></th>\n",
       "      <th colspan=\"20\" halign=\"left\">popularity</th>\n",
       "    </tr>\n",
       "    <tr>\n",
       "      <th>genres</th>\n",
       "      <th>Action</th>\n",
       "      <th>Adventure</th>\n",
       "      <th>Animation</th>\n",
       "      <th>Comedy</th>\n",
       "      <th>Crime</th>\n",
       "      <th>Documentary</th>\n",
       "      <th>Drama</th>\n",
       "      <th>Family</th>\n",
       "      <th>Fantasy</th>\n",
       "      <th>Foreign</th>\n",
       "      <th>History</th>\n",
       "      <th>Horror</th>\n",
       "      <th>Music</th>\n",
       "      <th>Mystery</th>\n",
       "      <th>Romance</th>\n",
       "      <th>Science Fiction</th>\n",
       "      <th>TV Movie</th>\n",
       "      <th>Thriller</th>\n",
       "      <th>War</th>\n",
       "      <th>Western</th>\n",
       "    </tr>\n",
       "    <tr>\n",
       "      <th>release_year</th>\n",
       "      <th></th>\n",
       "      <th></th>\n",
       "      <th></th>\n",
       "      <th></th>\n",
       "      <th></th>\n",
       "      <th></th>\n",
       "      <th></th>\n",
       "      <th></th>\n",
       "      <th></th>\n",
       "      <th></th>\n",
       "      <th></th>\n",
       "      <th></th>\n",
       "      <th></th>\n",
       "      <th></th>\n",
       "      <th></th>\n",
       "      <th></th>\n",
       "      <th></th>\n",
       "      <th></th>\n",
       "      <th></th>\n",
       "      <th></th>\n",
       "    </tr>\n",
       "  </thead>\n",
       "  <tbody>\n",
       "    <tr>\n",
       "      <th>1960</th>\n",
       "      <td>0.590724</td>\n",
       "      <td>0.700981</td>\n",
       "      <td>NaN</td>\n",
       "      <td>0.396000</td>\n",
       "      <td>0.346479</td>\n",
       "      <td>NaN</td>\n",
       "      <td>0.566305</td>\n",
       "      <td>0.278064</td>\n",
       "      <td>0.428247</td>\n",
       "      <td>0.194948</td>\n",
       "      <td>0.412364</td>\n",
       "      <td>0.591450</td>\n",
       "      <td>0.423531</td>\n",
       "      <td>NaN</td>\n",
       "      <td>0.541227</td>\n",
       "      <td>0.327905</td>\n",
       "      <td>NaN</td>\n",
       "      <td>0.811910</td>\n",
       "      <td>0.225863</td>\n",
       "      <td>0.567759</td>\n",
       "    </tr>\n",
       "    <tr>\n",
       "      <th>1961</th>\n",
       "      <td>0.365913</td>\n",
       "      <td>0.767323</td>\n",
       "      <td>2.631987</td>\n",
       "      <td>0.679838</td>\n",
       "      <td>0.806519</td>\n",
       "      <td>NaN</td>\n",
       "      <td>0.432233</td>\n",
       "      <td>0.755722</td>\n",
       "      <td>0.154073</td>\n",
       "      <td>0.113651</td>\n",
       "      <td>0.334463</td>\n",
       "      <td>0.254578</td>\n",
       "      <td>0.564748</td>\n",
       "      <td>0.712793</td>\n",
       "      <td>0.426036</td>\n",
       "      <td>0.274103</td>\n",
       "      <td>NaN</td>\n",
       "      <td>NaN</td>\n",
       "      <td>0.531184</td>\n",
       "      <td>0.210021</td>\n",
       "    </tr>\n",
       "    <tr>\n",
       "      <th>1962</th>\n",
       "      <td>0.708945</td>\n",
       "      <td>0.942513</td>\n",
       "      <td>NaN</td>\n",
       "      <td>0.273183</td>\n",
       "      <td>0.472816</td>\n",
       "      <td>NaN</td>\n",
       "      <td>0.392000</td>\n",
       "      <td>0.323463</td>\n",
       "      <td>0.235542</td>\n",
       "      <td>0.235542</td>\n",
       "      <td>0.600060</td>\n",
       "      <td>0.179368</td>\n",
       "      <td>0.323933</td>\n",
       "      <td>0.259220</td>\n",
       "      <td>0.365621</td>\n",
       "      <td>0.179212</td>\n",
       "      <td>NaN</td>\n",
       "      <td>0.760582</td>\n",
       "      <td>0.506162</td>\n",
       "      <td>0.414180</td>\n",
       "    </tr>\n",
       "    <tr>\n",
       "      <th>1963</th>\n",
       "      <td>0.951729</td>\n",
       "      <td>0.728487</td>\n",
       "      <td>2.180410</td>\n",
       "      <td>0.444481</td>\n",
       "      <td>0.552367</td>\n",
       "      <td>NaN</td>\n",
       "      <td>0.322448</td>\n",
       "      <td>0.852632</td>\n",
       "      <td>0.214071</td>\n",
       "      <td>0.351647</td>\n",
       "      <td>0.481618</td>\n",
       "      <td>0.376901</td>\n",
       "      <td>NaN</td>\n",
       "      <td>0.421033</td>\n",
       "      <td>0.399573</td>\n",
       "      <td>0.467835</td>\n",
       "      <td>NaN</td>\n",
       "      <td>0.719929</td>\n",
       "      <td>0.664326</td>\n",
       "      <td>0.246957</td>\n",
       "    </tr>\n",
       "    <tr>\n",
       "      <th>1964</th>\n",
       "      <td>0.813087</td>\n",
       "      <td>0.736431</td>\n",
       "      <td>0.445746</td>\n",
       "      <td>0.491229</td>\n",
       "      <td>0.261690</td>\n",
       "      <td>NaN</td>\n",
       "      <td>0.364818</td>\n",
       "      <td>0.878298</td>\n",
       "      <td>0.599791</td>\n",
       "      <td>0.152209</td>\n",
       "      <td>0.316377</td>\n",
       "      <td>0.189650</td>\n",
       "      <td>0.753799</td>\n",
       "      <td>0.308091</td>\n",
       "      <td>0.221586</td>\n",
       "      <td>0.226636</td>\n",
       "      <td>NaN</td>\n",
       "      <td>0.622580</td>\n",
       "      <td>0.930959</td>\n",
       "      <td>0.127679</td>\n",
       "    </tr>\n",
       "  </tbody>\n",
       "</table>\n",
       "</div>"
      ],
      "text/plain": [
       "             popularity                                                      \\\n",
       "genres           Action Adventure Animation    Comedy     Crime Documentary   \n",
       "release_year                                                                  \n",
       "1960           0.590724  0.700981       NaN  0.396000  0.346479         NaN   \n",
       "1961           0.365913  0.767323  2.631987  0.679838  0.806519         NaN   \n",
       "1962           0.708945  0.942513       NaN  0.273183  0.472816         NaN   \n",
       "1963           0.951729  0.728487  2.180410  0.444481  0.552367         NaN   \n",
       "1964           0.813087  0.736431  0.445746  0.491229  0.261690         NaN   \n",
       "\n",
       "                                                                          \\\n",
       "genres           Drama    Family   Fantasy   Foreign   History    Horror   \n",
       "release_year                                                               \n",
       "1960          0.566305  0.278064  0.428247  0.194948  0.412364  0.591450   \n",
       "1961          0.432233  0.755722  0.154073  0.113651  0.334463  0.254578   \n",
       "1962          0.392000  0.323463  0.235542  0.235542  0.600060  0.179368   \n",
       "1963          0.322448  0.852632  0.214071  0.351647  0.481618  0.376901   \n",
       "1964          0.364818  0.878298  0.599791  0.152209  0.316377  0.189650   \n",
       "\n",
       "                                                                               \\\n",
       "genres           Music   Mystery   Romance Science Fiction TV Movie  Thriller   \n",
       "release_year                                                                    \n",
       "1960          0.423531       NaN  0.541227        0.327905      NaN  0.811910   \n",
       "1961          0.564748  0.712793  0.426036        0.274103      NaN       NaN   \n",
       "1962          0.323933  0.259220  0.365621        0.179212      NaN  0.760582   \n",
       "1963               NaN  0.421033  0.399573        0.467835      NaN  0.719929   \n",
       "1964          0.753799  0.308091  0.221586        0.226636      NaN  0.622580   \n",
       "\n",
       "                                  \n",
       "genres             War   Western  \n",
       "release_year                      \n",
       "1960          0.225863  0.567759  \n",
       "1961          0.531184  0.210021  \n",
       "1962          0.506162  0.414180  \n",
       "1963          0.664326  0.246957  \n",
       "1964          0.930959  0.127679  "
      ]
     },
     "execution_count": 22,
     "metadata": {},
     "output_type": "execute_result"
    }
   ],
   "source": [
    "table= pd.pivot_table(df_clean, values=['popularity'] ,columns=['genres'], index=[ 'release_year'])\n",
    "table.head()"
   ]
  },
  {
   "cell_type": "code",
   "execution_count": 23,
   "metadata": {
    "tags": []
   },
   "outputs": [
    {
     "name": "stdout",
     "output_type": "stream",
     "text": [
      "release_year\n",
      "1960           (popularity, Thriller)\n",
      "1961          (popularity, Animation)\n",
      "1962          (popularity, Adventure)\n",
      "1963          (popularity, Animation)\n",
      "1964                (popularity, War)\n",
      "1965              (popularity, Music)\n",
      "1966          (popularity, Animation)\n",
      "1967          (popularity, Animation)\n",
      "1968            (popularity, Mystery)\n",
      "1969              (popularity, Crime)\n",
      "1970          (popularity, Animation)\n",
      "1971             (popularity, Family)\n",
      "1972              (popularity, Crime)\n",
      "1973          (popularity, Animation)\n",
      "1974            (popularity, Mystery)\n",
      "1975          (popularity, Adventure)\n",
      "1976              (popularity, Crime)\n",
      "1977             (popularity, Action)\n",
      "1978              (popularity, Music)\n",
      "1979             (popularity, Action)\n",
      "1980    (popularity, Science Fiction)\n",
      "1981          (popularity, Adventure)\n",
      "1982                (popularity, War)\n",
      "1983          (popularity, Adventure)\n",
      "1984             (popularity, Family)\n",
      "1985             (popularity, Family)\n",
      "1986          (popularity, Adventure)\n",
      "1987            (popularity, History)\n",
      "1988             (popularity, Action)\n",
      "1989          (popularity, Animation)\n",
      "1990          (popularity, Adventure)\n",
      "1991          (popularity, Animation)\n",
      "1992          (popularity, Animation)\n",
      "1993            (popularity, Fantasy)\n",
      "1994              (popularity, Crime)\n",
      "1995          (popularity, Animation)\n",
      "1996              (popularity, Crime)\n",
      "1997    (popularity, Science Fiction)\n",
      "1998                (popularity, War)\n",
      "1999          (popularity, Adventure)\n",
      "2000          (popularity, Adventure)\n",
      "2001            (popularity, Fantasy)\n",
      "2002            (popularity, Fantasy)\n",
      "2003            (popularity, Fantasy)\n",
      "2004            (popularity, Fantasy)\n",
      "2005            (popularity, Fantasy)\n",
      "2006            (popularity, Fantasy)\n",
      "2007            (popularity, Fantasy)\n",
      "2008          (popularity, Adventure)\n",
      "2009          (popularity, Adventure)\n",
      "2010          (popularity, Adventure)\n",
      "2011            (popularity, Western)\n",
      "2012            (popularity, Western)\n",
      "2013          (popularity, Adventure)\n",
      "2014          (popularity, Adventure)\n",
      "2015          (popularity, Adventure)\n",
      "dtype: object\n"
     ]
    }
   ],
   "source": [
    "max_popularity = table.idxmax(axis=1)\n",
    "print(max_popularity)"
   ]
  },
  {
   "cell_type": "markdown",
   "metadata": {},
   "source": [
    "### Research Question 2:  What kinds of properties are associated with movies that have high revenues?"
   ]
  },
  {
   "cell_type": "markdown",
   "metadata": {},
   "source": [
    "- Let's look at the relationship between revenue and different factors/feature.\n",
    "- We'll do a single variable analysis, looking at a single variable and how it affects the revenue.\n",
    "- That will provide us with sufficient information to predict whether a movie is going to generate high revenues."
   ]
  },
  {
   "cell_type": "code",
   "execution_count": 25,
   "metadata": {},
   "outputs": [
    {
     "data": {
      "text/plain": [
       "Index(['popularity', 'budget', 'revenue', 'title', 'runtime', 'genres',\n",
       "       'vote_count', 'vote_average', 'release_year'],\n",
       "      dtype='object')"
      ]
     },
     "execution_count": 25,
     "metadata": {},
     "output_type": "execute_result"
    }
   ],
   "source": [
    "df.columns"
   ]
  },
  {
   "cell_type": "code",
   "execution_count": 37,
   "metadata": {},
   "outputs": [],
   "source": [
    "def scatter_plot(x, y):\n",
    "    plt.figure(dpi=100)\n",
    "    plt.scatter(y=df_clean[y], x=df_clean[x])\n",
    "    plt.ylabel(y)\n",
    "    plt.xlabel(x)\n",
    "    plt.show()"
   ]
  },
  {
   "cell_type": "markdown",
   "metadata": {},
   "source": [
    "### Budget vs Revenue"
   ]
  },
  {
   "cell_type": "code",
   "execution_count": 39,
   "metadata": {},
   "outputs": [
    {
     "data": {
      "image/png": "[encoded data removed]",
      "text/plain": [
       "<Figure size 600x400 with 1 Axes>"
      ]
     },
     "metadata": {
      "needs_background": "light"
     },
     "output_type": "display_data"
    }
   ],
   "source": [
    "scatter_plot(x='revenue', y='budget')"
   ]
  },
  {
   "cell_type": "markdown",
   "metadata": {},
   "source": [
    "#### Runtime vs. Revenue"
   ]
  },
  {
   "cell_type": "code",
   "execution_count": 40,
   "metadata": {},
   "outputs": [
    {
     "data": {
      "image/png": "[encoded data removed]",
      "text/plain": [
       "<Figure size 600x400 with 1 Axes>"
      ]
     },
     "metadata": {
      "needs_background": "light"
     },
     "output_type": "display_data"
    }
   ],
   "source": [
    "scatter_plot(x='revenue', y='runtime')"
   ]
  },
  {
   "cell_type": "markdown",
   "metadata": {},
   "source": [
    "#### votecount vs. Revenue"
   ]
  },
  {
   "cell_type": "code",
   "execution_count": 41,
   "metadata": {},
   "outputs": [
    {
     "data": {
      "image/png": "[encoded data removed]",
      "text/plain": [
       "<Figure size 600x400 with 1 Axes>"
      ]
     },
     "metadata": {
      "needs_background": "light"
     },
     "output_type": "display_data"
    }
   ],
   "source": [
    "scatter_plot(x='revenue', y='vote_count')"
   ]
  },
  {
   "cell_type": "markdown",
   "metadata": {},
   "source": [
    "Let's have a look at the correlation matrix"
   ]
  },
  {
   "cell_type": "code",
   "execution_count": 24,
   "metadata": {},
   "outputs": [
    {
     "data": {
      "image/png": "[encoded data removed]",
      "text/plain": [
       "<Figure size 432x288 with 2 Axes>"
      ]
     },
     "metadata": {
      "needs_background": "light"
     },
     "output_type": "display_data"
    }
   ],
   "source": [
    "import seaborn as sns\n",
    "corr =df_clean.corr()\n",
    "ax = sns.heatmap(corr, vmin=-1, vmax=1, center=0, annot=True,\n",
    "                 cmap=sns.diverging_palette(20, 220, n=200),\n",
    "                 square=True)\n",
    "ax.set_xticklabels(ax.get_xticklabels(),\n",
    "                   rotation=45,\n",
    "                   horizontalalignment='right');"
   ]
  },
  {
   "cell_type": "markdown",
   "metadata": {},
   "source": [
    "<a id='conclusions'></a>\n",
    "## Conclusions\n",
    "\n",
    "> **Tip**: Finally, summarize your findings and the results that have been performed. Make sure that you are clear with regards to the limitations of your exploration. If you haven't done any statistical tests, do not imply any statistical conclusions. And make sure you avoid implying causation from correlation!\n",
    "\n",
    "> **Tip**: Once you are satisfied with your work, you should save a copy of the report in HTML or PDF form via the **File** > **Download as** submenu. Before exporting your report, check over it to make sure that the flow of the report is complete. You should probably remove all of the \"Tip\" quotes like this one so that the presentation is as tidy as possible. Congratulations!"
   ]
  },
  {
   "cell_type": "code",
   "execution_count": null,
   "metadata": {},
   "outputs": [],
   "source": []
  },
  {
   "cell_type": "code",
   "execution_count": null,
   "metadata": {},
   "outputs": [],
   "source": []
  }
 ],
 "metadata": {
  "kernelspec": {
   "display_name": "Python 3",
   "language": "python",
   "name": "python3"
  },
  "language_info": {
   "codemirror_mode": {
    "name": "ipython",
    "version": 3
   },
   "file_extension": ".py",
   "mimetype": "text/x-python",
   "name": "python",
   "nbconvert_exporter": "python",
   "pygments_lexer": "ipython3",
   "version": "3.7.10"
  }
 },
 "nbformat": 4,
 "nbformat_minor": 4
}
